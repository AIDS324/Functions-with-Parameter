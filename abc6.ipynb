{
 "cells": [
  {
   "cell_type": "code",
   "execution_count": 4,
   "metadata": {},
   "outputs": [
    {
     "data": {
      "text/plain": [
       "'This function has no arguments\\nit is a simple function\\nalso it is a multiline comment'"
      ]
     },
     "execution_count": 4,
     "metadata": {},
     "output_type": "execute_result"
    }
   ],
   "source": [
    "    '''This function has no arguments\n",
    "    it is a simple function\n",
    "    also it is a multiline comment'''\n",
    "#   it is a singleline comment"
   ]
  },
  {
   "cell_type": "code",
   "execution_count": 11,
   "metadata": {},
   "outputs": [
    {
     "name": "stdout",
     "output_type": "stream",
     "text": [
      "32\n",
      "Enter the value of a: 3\n",
      "Enter the value of b: 1\n",
      "2\n"
     ]
    }
   ],
   "source": [
    "# This is a parameter less function.\n",
    "\n",
    "def adding():\n",
    "    '''This function has no arguments\n",
    "    it is a simple function\n",
    "    also it is a multiline comment'''\n",
    "#   it is a singleline comment\n",
    "    a = 10\n",
    "    b = 22\n",
    "    return a+b\n",
    "print(adding())\n",
    "def subtraction():\n",
    "    '''This function has no arguments\n",
    "    it is a simple function\n",
    "    also it is a multiline comment'''\n",
    "#   it is a singleline comment\n",
    "    a = int(input(\"Enter the value of a: \"))\n",
    "    b = int(input(\"Enter the value of b: \"))\n",
    "    return a-b\n",
    "print(subtraction())"
   ]
  },
  {
   "cell_type": "code",
   "execution_count": 28,
   "metadata": {},
   "outputs": [
    {
     "name": "stdout",
     "output_type": "stream",
     "text": [
      "Enter First Input: 1\n",
      "Enter Second Input: 1\n",
      "0\n"
     ]
    }
   ],
   "source": [
    "# This is a parameterized Function\n",
    "\n",
    "#                 Parameters        \n",
    "def subtraction(first,second):\n",
    "    '''This function has no arguments\n",
    "    it is a simple function\n",
    "    also it is a multiline comment'''\n",
    "#   it is a singleline comment\n",
    "    a = first\n",
    "    b = second\n",
    "    return a-b\n",
    "First = int(input(\"Enter First Input: \"))\n",
    "Second = int(input(\"Enter Second Input: \"))\n",
    "\n",
    "#                   Arguments       <----- This is a positional arguments\n",
    "print(subtraction(First,Second))\n"
   ]
  },
  {
   "cell_type": "code",
   "execution_count": 33,
   "metadata": {},
   "outputs": [
    {
     "name": "stdout",
     "output_type": "stream",
     "text": [
      "8\n"
     ]
    }
   ],
   "source": [
    "# This is a parameterized Function\n",
    "\n",
    "#               Default Parameters        \n",
    "def subtraction(first=10,second=2):\n",
    "    '''This function has no arguments\n",
    "    it is a simple function\n",
    "    also it is a multiline comment'''\n",
    "#   it is a singleline comment\n",
    "    a = first\n",
    "    b = second\n",
    "    return a-b\n",
    "# First = 10\n",
    "# Second = 0\n",
    "\n",
    "print(subtraction())\n"
   ]
  },
  {
   "cell_type": "code",
   "execution_count": null,
   "metadata": {},
   "outputs": [],
   "source": [
    "#                 Parameters        \n",
    "def subtraction(first,second):\n",
    "    '''This function has no arguments\n",
    "    it is a simple function\n",
    "    also it is a multiline comment'''\n",
    "#   it is a singleline comment\n",
    "    a = first\n",
    "    b = second\n",
    "    return a-b\n",
    "First = int(input(\"Enter First Input: \"))\n",
    "Second = int(input(\"Enter Second Input: \"))\n",
    "\n",
    "#                   Arguments       <----- This is a positional arguments\n",
    "print(subtraction(First,Second))\n"
   ]
  },
  {
   "cell_type": "code",
   "execution_count": 43,
   "metadata": {},
   "outputs": [
    {
     "name": "stdout",
     "output_type": "stream",
     "text": [
      "Enter size of the shirt: 1\n",
      "Enter message: as\n",
      "Size is: 1 \n",
      "Message is: as\n"
     ]
    }
   ],
   "source": [
    "def make_shirt(size,message):\n",
    "    a = size\n",
    "    b = message\n",
    "    return f\"Size is: {a} \\nMessage is: {b}\"\n",
    "size = int(input(\"Enter size of the shirt: \"))\n",
    "message = input(\"Enter message: \")\n",
    "\n",
    "print(make_shirt(size,message))\n"
   ]
  },
  {
   "cell_type": "code",
   "execution_count": 42,
   "metadata": {},
   "outputs": [
    {
     "name": "stdout",
     "output_type": "stream",
     "text": [
      "Size is: 10 \n",
      "Message is: i am a shirt\n"
     ]
    }
   ],
   "source": [
    "def make_shirt(size=10,message=\"i am a shirt\"):\n",
    "    a = size\n",
    "    b = message\n",
    "    return f\"Size is: {a} \\nMessage is: {b}\"\n",
    "\n",
    "print(make_shirt())"
   ]
  },
  {
   "cell_type": "code",
   "execution_count": 62,
   "metadata": {},
   "outputs": [
    {
     "name": "stdout",
     "output_type": "stream",
     "text": [
      "{'first': 'jimi', 'last': 'hendrix', 'age': 27}\n"
     ]
    }
   ],
   "source": [
    "def build_person(first_name, last_name, age=\"\"):\n",
    "    \"\"\"Return a dictionary of information about a person.\"\"\"\n",
    "    person = {'first': first_name, 'last': last_name}\n",
    "    if age:\n",
    "        person['age'] = age\n",
    "    return person\n",
    "musician = build_person('jimi', 'hendrix', age=27)\n",
    "# musician = build_person('jimi', 'hendrix')\n",
    "\n",
    "print(musician)\n"
   ]
  },
  {
   "cell_type": "code",
   "execution_count": null,
   "metadata": {},
   "outputs": [],
   "source": [
    "maxvalue={}\n",
    "def manval():\n",
    "    inpp= int(input(\"Enter Value\"))\n",
    "    while(inpp != int(-1)):\n",
    "        \n",
    "maxval()"
   ]
  },
  {
   "cell_type": "code",
   "execution_count": 7,
   "metadata": {},
   "outputs": [
    {
     "name": "stdout",
     "output_type": "stream",
     "text": [
      "Enter length: 2\n",
      "Enter number 1: 1\n",
      "Enter number 2: 3\n",
      "3\n"
     ]
    }
   ],
   "source": [
    "def maxval(abc):\n",
    "    print(max(abc))\n",
    "abc = []\n",
    "a1 = int(input(\"Enter length: \"))\n",
    "for i in range(a1):\n",
    "    a2 = int(input(f\"Enter number {i+1}: \"))\n",
    "    abc.append(a2)\n",
    "maxval(abc)"
   ]
  },
  {
   "cell_type": "code",
   "execution_count": 21,
   "metadata": {},
   "outputs": [
    {
     "name": "stdout",
     "output_type": "stream",
     "text": [
      "Enter Length: 2\n",
      "Enter Numbers 1 1\n",
      "Enter Numbers 2 2\n"
     ]
    },
    {
     "data": {
      "text/plain": [
       "2"
      ]
     },
     "execution_count": 21,
     "metadata": {},
     "output_type": "execute_result"
    }
   ],
   "source": [
    "def maxlenn():\n",
    "    return max(int(input(f\"Enter Numbers {i+1} \")) for i in range(int(input(\"Enter Length: \"))))\n",
    "maxlenn()"
   ]
  },
  {
   "cell_type": "code",
   "execution_count": 47,
   "metadata": {},
   "outputs": [
    {
     "name": "stdout",
     "output_type": "stream",
     "text": [
      "Enter Length: 1,23\n",
      "23\n"
     ]
    }
   ],
   "source": [
    "def maxleng():\n",
    "    a3 = input(\"Enter Length: \").split(',')\n",
    "    return max(i for i in a3)\n",
    "print(maxleng())\n"
   ]
  },
  {
   "cell_type": "code",
   "execution_count": null,
   "metadata": {},
   "outputs": [],
   "source": [
    "def maxleng():\n",
    "#     a3 = input(\"Enter Length: \").split(',')\n",
    "    a3 = int(input(\"Enter Length: \"))\n",
    "    return max(i for i in range(a3))\n",
    "print(maxleng())\n"
   ]
  },
  {
   "cell_type": "code",
   "execution_count": null,
   "metadata": {},
   "outputs": [],
   "source": []
  },
  {
   "cell_type": "code",
   "execution_count": null,
   "metadata": {},
   "outputs": [],
   "source": []
  },
  {
   "cell_type": "code",
   "execution_count": 23,
   "metadata": {},
   "outputs": [
    {
     "name": "stdout",
     "output_type": "stream",
     "text": [
      "5\n"
     ]
    }
   ],
   "source": [
    "print(max([5,3]))"
   ]
  }
 ],
 "metadata": {
  "kernelspec": {
   "display_name": "Python 3",
   "language": "python",
   "name": "python3"
  }
 },
 "nbformat": 4,
 "nbformat_minor": 4
}
